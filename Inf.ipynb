{
 "cells": [
  {
   "cell_type": "code",
   "execution_count": 118,
   "id": "dd1af403",
   "metadata": {},
   "outputs": [],
   "source": [
    "import pandas as pd\n",
    "from helper import findKRelevant_simple,my_evaluation,alertFinishJob,alertError\n",
    "import time\n",
    "import argparse\n",
    "import pickle\n",
    "#import sys\n",
    "from multiprocessing import Pool\n",
    "import numpy as np\n",
    "import sklearn.preprocessing as pp\n",
    "from scipy.sparse import csr_matrix"
   ]
  },
  {
   "cell_type": "code",
   "execution_count": 119,
   "id": "5484df99",
   "metadata": {},
   "outputs": [],
   "source": [
    "K = 100\n",
    "#proc = 8\n",
    "MAX_tid = 225"
   ]
  },
  {
   "cell_type": "code",
   "execution_count": 120,
   "id": "9d7150b3",
   "metadata": {},
   "outputs": [],
   "source": [
    "# print(\"Load Playlist-Song matrix\")    \n",
    "df_ps_train = pd.read_hdf('data/df_data/df_playlistSong/df_ps_train_new.hdf')\n",
    "# df_ps_test = pd.read_hdf('data/df_data/df_playlistSong/df_ps_test_new.hdf')\n",
    "# df_ps_test_truth = pd.read_hdf('data/df_data/df_playlistSong/df_ps_test_truth_new.hdf')"
   ]
  },
  {
   "cell_type": "code",
   "execution_count": 121,
   "id": "8068e413",
   "metadata": {},
   "outputs": [],
   "source": [
    "df_ps_test = pd.read_hdf('data/df_data/df_playlistSong/df_ps_test_new.hdf')"
   ]
  },
  {
   "cell_type": "code",
   "execution_count": 122,
   "id": "48e9c898",
   "metadata": {
    "scrolled": true
   },
   "outputs": [],
   "source": [
    "# pid_list_pred = list(df_ps_test.index) \n",
    "# pid_test_length = len(pid_list_pred)\n",
    "# dict_index = {k:v for k,v in zip(range(0,pid_test_length),pid_list_pred)}\n"
   ]
  },
  {
   "cell_type": "code",
   "execution_count": 123,
   "id": "02462dec",
   "metadata": {},
   "outputs": [],
   "source": [
    "sim_path = 'data/cosineSimMatrix_playlist.pickle'\n",
    "with open(sim_path,'rb') as f:\n",
    "    sim_matrix = pickle.load(f)    \n",
    "sim_matrix = sim_matrix.tocsr()   \n"
   ]
  },
  {
   "cell_type": "code",
   "execution_count": 124,
   "id": "a5e67eb5",
   "metadata": {},
   "outputs": [],
   "source": [
    "def inference_row(list_tid, ps_matrix):\n",
    "#     Normalization not necessary in this case, but may be needed in future\n",
    "    ps_matrix_norm = pp.normalize(ps_matrix, axis=1)\n",
    "    length_tid = len(list_tid)\n",
    "    sparse_row = csr_matrix((np.ones(length_tid), (np.zeros(length_tid), list_tid)), shape=(1, 57884))\n",
    "    sparse_row = pp.normalize(sparse_row, axis=1)\n",
    "    \n",
    "    return sparse_row * ps_matrix_norm.T\n",
    "\n",
    "\n",
    "def my_function(data):\n",
    "    \n",
    "    index_pid = data[0]\n",
    "    pid = dict_index.get(index_pid)\n",
    "    current_list = data[1]\n",
    "    \n",
    "    start = time.time()\n",
    "#     print(\"Pid: \",pid)\n",
    "\n",
    "#    topK_pid = findKRelevant_simple(pid,df_ps_train,K)\n",
    "    sim_vector = sim_matrix.getrow(index_pid).toarray()[0].tolist()\n",
    "    \n",
    "    # Enumerate index and rating\n",
    "    counter_list = list(enumerate(sim_vector, 0))\n",
    "\n",
    "    # Sort by rating\n",
    "    sortedList = sorted(counter_list, key=lambda x:x[1],reverse=True)\n",
    "    \n",
    "    topK_pid = [i for i,_ in sortedList[1:K+1]]\n",
    "    \n",
    "    n = 0\n",
    "    \n",
    "    while(1):\n",
    "        \n",
    "        top_pid = topK_pid[n]\n",
    "        \n",
    "#        top_pid = dict_index.get(index_top_pid)\n",
    "        \n",
    "        add_tid_list = df_ps_train.loc[top_pid].tid\n",
    "                \n",
    "        # Form new list\n",
    "        new_tid_list = current_list + add_tid_list\n",
    "            \n",
    "        # Check number of songs and Add to data for prediction\n",
    "        total_song = len(new_tid_list)\n",
    "#            print(\"n: {}\\t total_song: {}\".format(n,total_song))\n",
    "        if (total_song > MAX_tid):\n",
    "            new_tid_list = new_tid_list[:MAX_tid]            \n",
    "            # Add\n",
    "            current_list = new_tid_list\n",
    "            break\n",
    "        else:\n",
    "            current_list = new_tid_list\n",
    "#        print(n)\n",
    "        n += 1\n",
    "#         print(n)\n",
    "        if (n == K):\n",
    "            break\n",
    "        \n",
    "#    SIZE = SIZE - 1\n",
    "#     print(\"Time taken = {0:.5f}\".format(time.time() - start))\n",
    "    \n",
    "    return [pid,current_list]\n",
    "\n",
    "\n",
    "def get_best_tid(current_list, ps_matrix_row):\n",
    "    \n",
    "    start = time.time()\n",
    "#     print(\"Pid: \",pid)\n",
    "\n",
    "#    topK_pid = findKRelevant_simple(pid,df_ps_train,K)\n",
    "    sim_vector = inference_row(current_list, ps_matrix_row).toarray()[0].tolist()\n",
    "    \n",
    "    # Enumerate index and rating\n",
    "    counter_list = list(enumerate(sim_vector, 0))\n",
    "\n",
    "    # Sort by rating\n",
    "    sortedList = sorted(counter_list, key=lambda x:x[1],reverse=True)\n",
    "    \n",
    "    topK_pid = [i for i,_ in sortedList[1:K+1]]\n",
    "    \n",
    "    n = 0\n",
    "    \n",
    "    while(1):\n",
    "        \n",
    "        top_pid = topK_pid[n]\n",
    "        \n",
    "#        top_pid = dict_index.get(index_top_pid)\n",
    "        \n",
    "        add_tid_list = df_ps_train.loc[top_pid].tid\n",
    "                \n",
    "        # Form new list\n",
    "        new_tid_list = current_list + add_tid_list\n",
    "            \n",
    "        # Check number of songs and Add to data for prediction\n",
    "        total_song = len(new_tid_list)\n",
    "#            print(\"n: {}\\t total_song: {}\".format(n,total_song))\n",
    "        if (total_song > MAX_tid):\n",
    "            new_tid_list = new_tid_list[:MAX_tid]            \n",
    "            # Add\n",
    "            current_list = new_tid_list\n",
    "            break\n",
    "        else:\n",
    "            current_list = new_tid_list\n",
    "#        print(n)\n",
    "        n += 1\n",
    "#         print(n)\n",
    "        if (n == K):\n",
    "            break\n",
    "        \n",
    "#    SIZE = SIZE - 1\n",
    "    print(\"Time taken = {0:.5f}\".format(time.time() - start))\n",
    "    \n",
    "    return [current_list]"
   ]
  },
  {
   "cell_type": "code",
   "execution_count": 125,
   "id": "bf1252e7",
   "metadata": {},
   "outputs": [],
   "source": [
    "current_list = list(df_ps_test.loc[pid_list_pred].tid)"
   ]
  },
  {
   "cell_type": "code",
   "execution_count": 126,
   "id": "1b667a14",
   "metadata": {},
   "outputs": [],
   "source": [
    "# print(len(current_list[1]))"
   ]
  },
  {
   "cell_type": "code",
   "execution_count": 127,
   "id": "1c4a52d3",
   "metadata": {},
   "outputs": [],
   "source": [
    "proc = 16"
   ]
  },
  {
   "cell_type": "code",
   "execution_count": 128,
   "id": "952253ab",
   "metadata": {},
   "outputs": [],
   "source": [
    "with Pool(proc) as p:\n",
    "    new_list = p.map(my_function, zip(range(0,pid_test_length),current_list))"
   ]
  },
  {
   "cell_type": "code",
   "execution_count": null,
   "id": "edc373a4",
   "metadata": {},
   "outputs": [],
   "source": []
  },
  {
   "cell_type": "code",
   "execution_count": null,
   "id": "6085b107",
   "metadata": {},
   "outputs": [],
   "source": []
  },
  {
   "cell_type": "code",
   "execution_count": null,
   "id": "0123051a",
   "metadata": {},
   "outputs": [],
   "source": []
  },
  {
   "cell_type": "code",
   "execution_count": 129,
   "id": "5471f78a",
   "metadata": {},
   "outputs": [
    {
     "name": "stderr",
     "output_type": "stream",
     "text": [
      "/tmp/ipykernel_5128/1510394896.py:3: DeprecationWarning: Please use `dok_matrix` from the `scipy.sparse` namespace, the `scipy.sparse.dok` namespace is deprecated.\n",
      "  ps_matrix = pickle.load(f)\n"
     ]
    }
   ],
   "source": [
    "pickle_path = 'data/giantMatrix_new.pickle'\n",
    "with open(pickle_path,'rb') as f:\n",
    "    ps_matrix = pickle.load(f)\n",
    "    \n",
    "ps_matrix_row = ps_matrix.tocsr()"
   ]
  },
  {
   "cell_type": "code",
   "execution_count": null,
   "id": "0fed8615",
   "metadata": {},
   "outputs": [],
   "source": []
  },
  {
   "cell_type": "code",
   "execution_count": null,
   "id": "588b0d1d",
   "metadata": {},
   "outputs": [],
   "source": []
  },
  {
   "cell_type": "code",
   "execution_count": 130,
   "id": "80c90b02",
   "metadata": {},
   "outputs": [],
   "source": [
    "df_ps_test_truth = pd.read_hdf(\"data/df_data/\"+\"df_playlistSong/df_ps_test_truth_new.hdf\")\n",
    "\n",
    "pid_list_test = list(df_ps_test_truth.index) \n"
   ]
  },
  {
   "cell_type": "code",
   "execution_count": 131,
   "id": "29b1de34",
   "metadata": {},
   "outputs": [],
   "source": [
    "test_track10 = df_ps_test_truth.iloc[0,0]"
   ]
  },
  {
   "cell_type": "code",
   "execution_count": null,
   "id": "c4dd2df5",
   "metadata": {},
   "outputs": [],
   "source": []
  },
  {
   "cell_type": "code",
   "execution_count": 132,
   "id": "6d007027",
   "metadata": {},
   "outputs": [],
   "source": [
    "resultado_final = inference_row(test_track10, ps_matrix_row)"
   ]
  },
  {
   "cell_type": "code",
   "execution_count": 133,
   "id": "88fb3072",
   "metadata": {},
   "outputs": [],
   "source": [
    "r1 = set(resultado_final.nonzero()[1])"
   ]
  },
  {
   "cell_type": "code",
   "execution_count": 134,
   "id": "248cfca3",
   "metadata": {},
   "outputs": [],
   "source": [
    "r2 = set(sim_matrix.getrow(0).nonzero()[1])"
   ]
  },
  {
   "cell_type": "code",
   "execution_count": 135,
   "id": "a4ffb32c",
   "metadata": {},
   "outputs": [],
   "source": [
    "# print(resultado_final-sim_matrix.getrow(0))"
   ]
  },
  {
   "cell_type": "code",
   "execution_count": 136,
   "id": "dc025187",
   "metadata": {},
   "outputs": [],
   "source": [
    "# len(r1.intersection(r2))\n",
    "\n",
    "with open('dict_uri2tid.pkl', 'rb') as f:\n",
    "    dict_uri2tid = pickle.load(f)\n"
   ]
  },
  {
   "cell_type": "code",
   "execution_count": 137,
   "id": "0124913e",
   "metadata": {},
   "outputs": [
    {
     "data": {
      "text/plain": [
       "4292"
      ]
     },
     "execution_count": 137,
     "metadata": {},
     "output_type": "execute_result"
    }
   ],
   "source": [
    "dict_uri2tid['spotify:track:0UaMYEvWZi0ZqiDOoHU3YI']"
   ]
  },
  {
   "cell_type": "code",
   "execution_count": 138,
   "id": "43875764",
   "metadata": {},
   "outputs": [],
   "source": [
    "# test_track10[0] = 51515115"
   ]
  },
  {
   "cell_type": "code",
   "execution_count": 139,
   "id": "d55fa3db",
   "metadata": {},
   "outputs": [],
   "source": [
    "test_random = [5, 15, 20, 25, 30, 35, 40, 45]"
   ]
  },
  {
   "cell_type": "code",
   "execution_count": 144,
   "id": "a5b645aa",
   "metadata": {
    "scrolled": true
   },
   "outputs": [
    {
     "name": "stdout",
     "output_type": "stream",
     "text": [
      "Time taken = 0.00336\n"
     ]
    }
   ],
   "source": [
    "r_f = get_best_tid(test_track10, ps_matrix.tocsr())"
   ]
  },
  {
   "cell_type": "code",
   "execution_count": 145,
   "id": "7cdb9bf5",
   "metadata": {},
   "outputs": [],
   "source": [
    "a = set(new_list[0][1])"
   ]
  },
  {
   "cell_type": "code",
   "execution_count": 146,
   "id": "7c3b9537",
   "metadata": {},
   "outputs": [],
   "source": [
    "b = set(r_f[0])"
   ]
  },
  {
   "cell_type": "code",
   "execution_count": 147,
   "id": "0d9090e1",
   "metadata": {},
   "outputs": [
    {
     "data": {
      "text/plain": [
       "169"
      ]
     },
     "execution_count": 147,
     "metadata": {},
     "output_type": "execute_result"
    }
   ],
   "source": [
    "# It is not all of them since the similarity matrix is built on training set and not the whole set\n",
    "len(b.intersection(a))"
   ]
  },
  {
   "cell_type": "code",
   "execution_count": 42,
   "id": "5484328d",
   "metadata": {},
   "outputs": [],
   "source": [
    "# a"
   ]
  },
  {
   "cell_type": "code",
   "execution_count": 503,
   "id": "653c9c6d",
   "metadata": {},
   "outputs": [],
   "source": [
    "# sim_matrix.getrow(0)"
   ]
  },
  {
   "cell_type": "code",
   "execution_count": 502,
   "id": "715d69d3",
   "metadata": {},
   "outputs": [],
   "source": [
    "# sim_matrix.getrow(10).toarray()[0].tolist()"
   ]
  },
  {
   "cell_type": "code",
   "execution_count": null,
   "id": "ea937390",
   "metadata": {},
   "outputs": [],
   "source": []
  }
 ],
 "metadata": {
  "kernelspec": {
   "display_name": "Python 3 (ipykernel)",
   "language": "python",
   "name": "python3"
  },
  "language_info": {
   "codemirror_mode": {
    "name": "ipython",
    "version": 3
   },
   "file_extension": ".py",
   "mimetype": "text/x-python",
   "name": "python",
   "nbconvert_exporter": "python",
   "pygments_lexer": "ipython3",
   "version": "3.8.10"
  }
 },
 "nbformat": 4,
 "nbformat_minor": 5
}
