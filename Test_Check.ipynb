{
 "cells": [
  {
   "cell_type": "markdown",
   "id": "f5509f80",
   "metadata": {},
   "source": [
    "# 01_json2df"
   ]
  },
  {
   "cell_type": "markdown",
   "id": "fa48ed3e",
   "metadata": {},
   "source": [
    "Since the MPD is in JSON format and multiple slices, we need a script that reads all the slices and creates datasets for easy use later on.\n",
    "\n",
    "Creates multiples dataframes:\n",
    "- df_tracks_info: extra information about each track. E.g: artist, duration, album, tid, etc.\n",
    "- df_tracks: information about which track belong to which playlist in which position\n",
    "- df_playlists_info: information about each playlist. E.g: how many artists, edits, duration, name, how many tracks, etc.\n",
    "- df_playlists_test and df_playlists_info: same as before but for the test set provided in the challenge.\n",
    "\n",
    "It also creates a dictionary that links each track URI to a track ID."
   ]
  },
  {
   "cell_type": "markdown",
   "id": "5a44f38e",
   "metadata": {},
   "source": [
    "# 02_buildChallengeSet"
   ]
  },
  {
   "cell_type": "markdown",
   "id": "b2d183dc",
   "metadata": {},
   "source": [
    "This script will build its own test set to create a more robust challenge with playlists from the original one that are missing a certain amount of tracks randomly or from the end.\n",
    "\n",
    "- df_playlists_challenge: same as df_playlists but with the playlists chosen for the test set.\n",
    "- df_tracks_challenge: same as df_tracks but with the tracks chosen for the test set.\n",
    "- df_tracks_challenge_incomplete: same as df_tracks but with the modifications specified above."
   ]
  },
  {
   "cell_type": "markdown",
   "id": "a434c514",
   "metadata": {},
   "source": [
    "# 03_buildTrainSet"
   ]
  },
  {
   "cell_type": "markdown",
   "id": "7945eba1",
   "metadata": {},
   "source": [
    "This script creates the final training/test sets by substracting the previous sets from the original sets."
   ]
  },
  {
   "cell_type": "markdown",
   "id": "c484b859",
   "metadata": {},
   "source": [
    "# 04_buildPlaylistSongMatrix"
   ]
  },
  {
   "cell_type": "markdown",
   "id": "fc59b10d",
   "metadata": {},
   "source": [
    "The dataframes created follow the template of df_tracks. This script creates new dataframes in which each row is a playlist with all the track IDs and their positions."
   ]
  },
  {
   "cell_type": "markdown",
   "id": "635b703f",
   "metadata": {},
   "source": [
    "# 05_buildSongPlaylistMatrix"
   ]
  },
  {
   "cell_type": "markdown",
   "id": "e42f6f3e",
   "metadata": {},
   "source": [
    "Creates extra dataframes in which each row is a track and specifies position and playlist ID it belongs to."
   ]
  },
  {
   "cell_type": "markdown",
   "id": "0036b0e6",
   "metadata": {},
   "source": [
    "# 06_buildGiantMatrix"
   ]
  },
  {
   "cell_type": "markdown",
   "id": "a7faca2e",
   "metadata": {},
   "source": [
    "Creates the training playlist/song matrix. This matrix will have as many rows as playlists and as many columns as unique tracks. The songs belonging to a playlist will have a one in the corresponding place. Since it is a very large and sparse matrix, a sparse matrix is used."
   ]
  },
  {
   "cell_type": "markdown",
   "id": "0a78620d",
   "metadata": {},
   "source": [
    "# 07_buildGiantMatrix_truth"
   ]
  },
  {
   "cell_type": "markdown",
   "id": "480da7b2",
   "metadata": {},
   "source": [
    "It will repeat the same process to create another matrix but this time it will be using the whole dataset instead of the training subset."
   ]
  },
  {
   "cell_type": "markdown",
   "id": "6eb14316",
   "metadata": {},
   "source": [
    "# 08_buildSimMatrix"
   ]
  },
  {
   "cell_type": "markdown",
   "id": "19022a55",
   "metadata": {},
   "source": [
    "This script builds a similarity matrix between playlists and between songs. This help to preprocess calculations later on."
   ]
  },
  {
   "cell_type": "markdown",
   "id": "17ffddef",
   "metadata": {},
   "source": []
  },
  {
   "cell_type": "code",
   "execution_count": 1,
   "id": "840e0fb1",
   "metadata": {},
   "outputs": [],
   "source": [
    "import pandas as pd"
   ]
  },
  {
   "cell_type": "code",
   "execution_count": 41,
   "id": "4695c7ca",
   "metadata": {},
   "outputs": [],
   "source": [
    "df = pd.read_hdf('data/df_data/df_playlistSong/df_ps_train_new.hdf')"
   ]
  },
  {
   "cell_type": "code",
   "execution_count": 42,
   "id": "71bbc99f",
   "metadata": {},
   "outputs": [
    {
     "data": {
      "text/html": [
       "<div>\n",
       "<style scoped>\n",
       "    .dataframe tbody tr th:only-of-type {\n",
       "        vertical-align: middle;\n",
       "    }\n",
       "\n",
       "    .dataframe tbody tr th {\n",
       "        vertical-align: top;\n",
       "    }\n",
       "\n",
       "    .dataframe thead th {\n",
       "        text-align: right;\n",
       "    }\n",
       "</style>\n",
       "<table border=\"1\" class=\"dataframe\">\n",
       "  <thead>\n",
       "    <tr style=\"text-align: right;\">\n",
       "      <th></th>\n",
       "      <th>tid</th>\n",
       "      <th>pos</th>\n",
       "    </tr>\n",
       "    <tr>\n",
       "      <th>pid</th>\n",
       "      <th></th>\n",
       "      <th></th>\n",
       "    </tr>\n",
       "  </thead>\n",
       "  <tbody>\n",
       "    <tr>\n",
       "      <th>0</th>\n",
       "      <td>[4292, 5209, 1046, 4659, 1053, 4270, 423, 9088...</td>\n",
       "      <td>[0, 1, 2, 3, 4, 5, 6, 7, 8, 9, 10, 11, 12, 13,...</td>\n",
       "    </tr>\n",
       "    <tr>\n",
       "      <th>1</th>\n",
       "      <td>[2600, 36177, 36178, 36179, 36180, 36181, 3618...</td>\n",
       "      <td>[0, 1, 2, 3, 4, 5, 6, 7, 8, 9, 10, 11, 12, 13,...</td>\n",
       "    </tr>\n",
       "    <tr>\n",
       "      <th>2</th>\n",
       "      <td>[36195, 36196, 36197, 36198, 26906, 36199, 362...</td>\n",
       "      <td>[0, 1, 2, 3, 4, 5, 6, 7, 8, 9, 10, 11, 12, 13,...</td>\n",
       "    </tr>\n",
       "    <tr>\n",
       "      <th>3</th>\n",
       "      <td>[36250, 36251, 36252, 36253, 36254, 23103, 362...</td>\n",
       "      <td>[0, 1, 2, 3, 4, 5, 6, 7, 8, 9, 10, 11, 12, 13,...</td>\n",
       "    </tr>\n",
       "    <tr>\n",
       "      <th>4</th>\n",
       "      <td>[15180, 2591, 4844, 36357, 1022, 6439, 18897, ...</td>\n",
       "      <td>[0, 1, 2, 3, 4, 5, 6, 7, 8, 9, 10, 11, 12, 13,...</td>\n",
       "    </tr>\n",
       "    <tr>\n",
       "      <th>...</th>\n",
       "      <td>...</td>\n",
       "      <td>...</td>\n",
       "    </tr>\n",
       "    <tr>\n",
       "      <th>1995</th>\n",
       "      <td>[8447, 11563, 15564, 36085, 36086, 4083, 4077,...</td>\n",
       "      <td>[1, 2, 4, 5, 10, 17, 19, 21, 22, 26, 36, 38, 4...</td>\n",
       "    </tr>\n",
       "    <tr>\n",
       "      <th>1996</th>\n",
       "      <td>[793, 12667, 1404, 31268, 784, 35563, 1042, 91...</td>\n",
       "      <td>[0, 1, 2, 3, 4, 5, 6, 7, 8, 9, 10, 11, 12, 13,...</td>\n",
       "    </tr>\n",
       "    <tr>\n",
       "      <th>1997</th>\n",
       "      <td>[18303, 2366, 36150, 23423, 36151, 971, 967, 3...</td>\n",
       "      <td>[0, 1, 2, 3, 4, 5, 6, 7, 8, 9, 10, 11, 12, 13,...</td>\n",
       "    </tr>\n",
       "    <tr>\n",
       "      <th>1998</th>\n",
       "      <td>[7228, 36168, 2591, 4444, 5980, 4440, 36169, 1...</td>\n",
       "      <td>[0, 1, 2, 3, 4, 5, 6, 7, 8, 9, 10, 11, 12, 13,...</td>\n",
       "    </tr>\n",
       "    <tr>\n",
       "      <th>1999</th>\n",
       "      <td>[4072, 4073, 6132, 4711, 21523, 36170, 496, 20...</td>\n",
       "      <td>[0, 1, 2, 3, 4, 5, 6, 7, 8, 9, 10, 11, 12, 13,...</td>\n",
       "    </tr>\n",
       "  </tbody>\n",
       "</table>\n",
       "<p>2000 rows × 2 columns</p>\n",
       "</div>"
      ],
      "text/plain": [
       "                                                    tid  \\\n",
       "pid                                                       \n",
       "0     [4292, 5209, 1046, 4659, 1053, 4270, 423, 9088...   \n",
       "1     [2600, 36177, 36178, 36179, 36180, 36181, 3618...   \n",
       "2     [36195, 36196, 36197, 36198, 26906, 36199, 362...   \n",
       "3     [36250, 36251, 36252, 36253, 36254, 23103, 362...   \n",
       "4     [15180, 2591, 4844, 36357, 1022, 6439, 18897, ...   \n",
       "...                                                 ...   \n",
       "1995  [8447, 11563, 15564, 36085, 36086, 4083, 4077,...   \n",
       "1996  [793, 12667, 1404, 31268, 784, 35563, 1042, 91...   \n",
       "1997  [18303, 2366, 36150, 23423, 36151, 971, 967, 3...   \n",
       "1998  [7228, 36168, 2591, 4444, 5980, 4440, 36169, 1...   \n",
       "1999  [4072, 4073, 6132, 4711, 21523, 36170, 496, 20...   \n",
       "\n",
       "                                                    pos  \n",
       "pid                                                      \n",
       "0     [0, 1, 2, 3, 4, 5, 6, 7, 8, 9, 10, 11, 12, 13,...  \n",
       "1     [0, 1, 2, 3, 4, 5, 6, 7, 8, 9, 10, 11, 12, 13,...  \n",
       "2     [0, 1, 2, 3, 4, 5, 6, 7, 8, 9, 10, 11, 12, 13,...  \n",
       "3     [0, 1, 2, 3, 4, 5, 6, 7, 8, 9, 10, 11, 12, 13,...  \n",
       "4     [0, 1, 2, 3, 4, 5, 6, 7, 8, 9, 10, 11, 12, 13,...  \n",
       "...                                                 ...  \n",
       "1995  [1, 2, 4, 5, 10, 17, 19, 21, 22, 26, 36, 38, 4...  \n",
       "1996  [0, 1, 2, 3, 4, 5, 6, 7, 8, 9, 10, 11, 12, 13,...  \n",
       "1997  [0, 1, 2, 3, 4, 5, 6, 7, 8, 9, 10, 11, 12, 13,...  \n",
       "1998  [0, 1, 2, 3, 4, 5, 6, 7, 8, 9, 10, 11, 12, 13,...  \n",
       "1999  [0, 1, 2, 3, 4, 5, 6, 7, 8, 9, 10, 11, 12, 13,...  \n",
       "\n",
       "[2000 rows x 2 columns]"
      ]
     },
     "execution_count": 42,
     "metadata": {},
     "output_type": "execute_result"
    }
   ],
   "source": [
    "df"
   ]
  },
  {
   "cell_type": "markdown",
   "id": "57311400",
   "metadata": {},
   "source": [
    "df_tracks"
   ]
  },
  {
   "cell_type": "markdown",
   "id": "c0933ec4",
   "metadata": {},
   "source": []
  },
  {
   "cell_type": "markdown",
   "id": "b8b7f687",
   "metadata": {},
   "source": []
  },
  {
   "cell_type": "markdown",
   "id": "50f7ee91",
   "metadata": {},
   "source": []
  }
 ],
 "metadata": {
  "kernelspec": {
   "display_name": "Python 3 (ipykernel)",
   "language": "python",
   "name": "python3"
  },
  "language_info": {
   "codemirror_mode": {
    "name": "ipython",
    "version": 3
   },
   "file_extension": ".py",
   "mimetype": "text/x-python",
   "name": "python",
   "nbconvert_exporter": "python",
   "pygments_lexer": "ipython3",
   "version": "3.8.10"
  }
 },
 "nbformat": 4,
 "nbformat_minor": 5
}
